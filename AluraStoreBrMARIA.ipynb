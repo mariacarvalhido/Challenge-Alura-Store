{
  "nbformat": 4,
  "nbformat_minor": 0,
  "metadata": {
    "colab": {
      "provenance": []
    },
    "kernelspec": {
      "name": "python3",
      "display_name": "Python 3"
    },
    "language_info": {
      "name": "python"
    }
  },
  "cells": [
    {
      "cell_type": "markdown",
      "source": [
        "### Importação dos dados\n",
        "\n"
      ],
      "metadata": {
        "id": "RhEdWd9YUR6H"
      }
    },
    {
      "cell_type": "code",
      "execution_count": 3,
      "metadata": {
        "colab": {
          "base_uri": "https://localhost:8080/",
          "height": 293
        },
        "id": "T3EvaeQ_INIL",
        "outputId": "b15c672e-7472-4000-c194-8313a4ee415f"
      },
      "outputs": [
        {
          "output_type": "execute_result",
          "data": {
            "text/plain": [
              "                 Produto Categoria do Produto    Preço      Frete  \\\n",
              "0     Assistente virtual          eletronicos   219.08   9.249790   \n",
              "1         Mesa de jantar               moveis   256.35  11.234305   \n",
              "2      Jogo de tabuleiro           brinquedos   279.51  21.262681   \n",
              "3            Micro-ondas     eletrodomesticos  1009.99  54.667344   \n",
              "4  Cadeira de escritório               moveis   446.99  26.964689   \n",
              "\n",
              "  Data da Compra        Vendedor Local da compra  Avaliação da compra  \\\n",
              "0     16/01/2021     Pedro Gomes              SP                    4   \n",
              "1     18/05/2022  Beatriz Moraes              RJ                    1   \n",
              "2     15/03/2021      João Souza              DF                    1   \n",
              "3     03/05/2022      João Souza              RS                    4   \n",
              "4     07/11/2020   Larissa Alves              MG                    5   \n",
              "\n",
              "  Tipo de pagamento  Quantidade de parcelas    lat    lon  \n",
              "0    cartao_credito                       8 -22.19 -48.79  \n",
              "1    cartao_credito                       4 -22.25 -42.66  \n",
              "2    cartao_credito                       1 -15.83 -47.86  \n",
              "3            boleto                       1 -30.17 -53.50  \n",
              "4            boleto                       1 -18.10 -44.38  "
            ],
            "text/html": [
              "\n",
              "  <div id=\"df-aabc4b5e-2853-433d-9fef-b96a28ff3dff\" class=\"colab-df-container\">\n",
              "    <div>\n",
              "<style scoped>\n",
              "    .dataframe tbody tr th:only-of-type {\n",
              "        vertical-align: middle;\n",
              "    }\n",
              "\n",
              "    .dataframe tbody tr th {\n",
              "        vertical-align: top;\n",
              "    }\n",
              "\n",
              "    .dataframe thead th {\n",
              "        text-align: right;\n",
              "    }\n",
              "</style>\n",
              "<table border=\"1\" class=\"dataframe\">\n",
              "  <thead>\n",
              "    <tr style=\"text-align: right;\">\n",
              "      <th></th>\n",
              "      <th>Produto</th>\n",
              "      <th>Categoria do Produto</th>\n",
              "      <th>Preço</th>\n",
              "      <th>Frete</th>\n",
              "      <th>Data da Compra</th>\n",
              "      <th>Vendedor</th>\n",
              "      <th>Local da compra</th>\n",
              "      <th>Avaliação da compra</th>\n",
              "      <th>Tipo de pagamento</th>\n",
              "      <th>Quantidade de parcelas</th>\n",
              "      <th>lat</th>\n",
              "      <th>lon</th>\n",
              "    </tr>\n",
              "  </thead>\n",
              "  <tbody>\n",
              "    <tr>\n",
              "      <th>0</th>\n",
              "      <td>Assistente virtual</td>\n",
              "      <td>eletronicos</td>\n",
              "      <td>219.08</td>\n",
              "      <td>9.249790</td>\n",
              "      <td>16/01/2021</td>\n",
              "      <td>Pedro Gomes</td>\n",
              "      <td>SP</td>\n",
              "      <td>4</td>\n",
              "      <td>cartao_credito</td>\n",
              "      <td>8</td>\n",
              "      <td>-22.19</td>\n",
              "      <td>-48.79</td>\n",
              "    </tr>\n",
              "    <tr>\n",
              "      <th>1</th>\n",
              "      <td>Mesa de jantar</td>\n",
              "      <td>moveis</td>\n",
              "      <td>256.35</td>\n",
              "      <td>11.234305</td>\n",
              "      <td>18/05/2022</td>\n",
              "      <td>Beatriz Moraes</td>\n",
              "      <td>RJ</td>\n",
              "      <td>1</td>\n",
              "      <td>cartao_credito</td>\n",
              "      <td>4</td>\n",
              "      <td>-22.25</td>\n",
              "      <td>-42.66</td>\n",
              "    </tr>\n",
              "    <tr>\n",
              "      <th>2</th>\n",
              "      <td>Jogo de tabuleiro</td>\n",
              "      <td>brinquedos</td>\n",
              "      <td>279.51</td>\n",
              "      <td>21.262681</td>\n",
              "      <td>15/03/2021</td>\n",
              "      <td>João Souza</td>\n",
              "      <td>DF</td>\n",
              "      <td>1</td>\n",
              "      <td>cartao_credito</td>\n",
              "      <td>1</td>\n",
              "      <td>-15.83</td>\n",
              "      <td>-47.86</td>\n",
              "    </tr>\n",
              "    <tr>\n",
              "      <th>3</th>\n",
              "      <td>Micro-ondas</td>\n",
              "      <td>eletrodomesticos</td>\n",
              "      <td>1009.99</td>\n",
              "      <td>54.667344</td>\n",
              "      <td>03/05/2022</td>\n",
              "      <td>João Souza</td>\n",
              "      <td>RS</td>\n",
              "      <td>4</td>\n",
              "      <td>boleto</td>\n",
              "      <td>1</td>\n",
              "      <td>-30.17</td>\n",
              "      <td>-53.50</td>\n",
              "    </tr>\n",
              "    <tr>\n",
              "      <th>4</th>\n",
              "      <td>Cadeira de escritório</td>\n",
              "      <td>moveis</td>\n",
              "      <td>446.99</td>\n",
              "      <td>26.964689</td>\n",
              "      <td>07/11/2020</td>\n",
              "      <td>Larissa Alves</td>\n",
              "      <td>MG</td>\n",
              "      <td>5</td>\n",
              "      <td>boleto</td>\n",
              "      <td>1</td>\n",
              "      <td>-18.10</td>\n",
              "      <td>-44.38</td>\n",
              "    </tr>\n",
              "  </tbody>\n",
              "</table>\n",
              "</div>\n",
              "    <div class=\"colab-df-buttons\">\n",
              "\n",
              "  <div class=\"colab-df-container\">\n",
              "    <button class=\"colab-df-convert\" onclick=\"convertToInteractive('df-aabc4b5e-2853-433d-9fef-b96a28ff3dff')\"\n",
              "            title=\"Convert this dataframe to an interactive table.\"\n",
              "            style=\"display:none;\">\n",
              "\n",
              "  <svg xmlns=\"http://www.w3.org/2000/svg\" height=\"24px\" viewBox=\"0 -960 960 960\">\n",
              "    <path d=\"M120-120v-720h720v720H120Zm60-500h600v-160H180v160Zm220 220h160v-160H400v160Zm0 220h160v-160H400v160ZM180-400h160v-160H180v160Zm440 0h160v-160H620v160ZM180-180h160v-160H180v160Zm440 0h160v-160H620v160Z\"/>\n",
              "  </svg>\n",
              "    </button>\n",
              "\n",
              "  <style>\n",
              "    .colab-df-container {\n",
              "      display:flex;\n",
              "      gap: 12px;\n",
              "    }\n",
              "\n",
              "    .colab-df-convert {\n",
              "      background-color: #E8F0FE;\n",
              "      border: none;\n",
              "      border-radius: 50%;\n",
              "      cursor: pointer;\n",
              "      display: none;\n",
              "      fill: #1967D2;\n",
              "      height: 32px;\n",
              "      padding: 0 0 0 0;\n",
              "      width: 32px;\n",
              "    }\n",
              "\n",
              "    .colab-df-convert:hover {\n",
              "      background-color: #E2EBFA;\n",
              "      box-shadow: 0px 1px 2px rgba(60, 64, 67, 0.3), 0px 1px 3px 1px rgba(60, 64, 67, 0.15);\n",
              "      fill: #174EA6;\n",
              "    }\n",
              "\n",
              "    .colab-df-buttons div {\n",
              "      margin-bottom: 4px;\n",
              "    }\n",
              "\n",
              "    [theme=dark] .colab-df-convert {\n",
              "      background-color: #3B4455;\n",
              "      fill: #D2E3FC;\n",
              "    }\n",
              "\n",
              "    [theme=dark] .colab-df-convert:hover {\n",
              "      background-color: #434B5C;\n",
              "      box-shadow: 0px 1px 3px 1px rgba(0, 0, 0, 0.15);\n",
              "      filter: drop-shadow(0px 1px 2px rgba(0, 0, 0, 0.3));\n",
              "      fill: #FFFFFF;\n",
              "    }\n",
              "  </style>\n",
              "\n",
              "    <script>\n",
              "      const buttonEl =\n",
              "        document.querySelector('#df-aabc4b5e-2853-433d-9fef-b96a28ff3dff button.colab-df-convert');\n",
              "      buttonEl.style.display =\n",
              "        google.colab.kernel.accessAllowed ? 'block' : 'none';\n",
              "\n",
              "      async function convertToInteractive(key) {\n",
              "        const element = document.querySelector('#df-aabc4b5e-2853-433d-9fef-b96a28ff3dff');\n",
              "        const dataTable =\n",
              "          await google.colab.kernel.invokeFunction('convertToInteractive',\n",
              "                                                    [key], {});\n",
              "        if (!dataTable) return;\n",
              "\n",
              "        const docLinkHtml = 'Like what you see? Visit the ' +\n",
              "          '<a target=\"_blank\" href=https://colab.research.google.com/notebooks/data_table.ipynb>data table notebook</a>'\n",
              "          + ' to learn more about interactive tables.';\n",
              "        element.innerHTML = '';\n",
              "        dataTable['output_type'] = 'display_data';\n",
              "        await google.colab.output.renderOutput(dataTable, element);\n",
              "        const docLink = document.createElement('div');\n",
              "        docLink.innerHTML = docLinkHtml;\n",
              "        element.appendChild(docLink);\n",
              "      }\n",
              "    </script>\n",
              "  </div>\n",
              "\n",
              "\n",
              "    <div id=\"df-fac4aa98-a0e4-4ba3-ad53-fdfc51292eb9\">\n",
              "      <button class=\"colab-df-quickchart\" onclick=\"quickchart('df-fac4aa98-a0e4-4ba3-ad53-fdfc51292eb9')\"\n",
              "                title=\"Suggest charts\"\n",
              "                style=\"display:none;\">\n",
              "\n",
              "<svg xmlns=\"http://www.w3.org/2000/svg\" height=\"24px\"viewBox=\"0 0 24 24\"\n",
              "     width=\"24px\">\n",
              "    <g>\n",
              "        <path d=\"M19 3H5c-1.1 0-2 .9-2 2v14c0 1.1.9 2 2 2h14c1.1 0 2-.9 2-2V5c0-1.1-.9-2-2-2zM9 17H7v-7h2v7zm4 0h-2V7h2v10zm4 0h-2v-4h2v4z\"/>\n",
              "    </g>\n",
              "</svg>\n",
              "      </button>\n",
              "\n",
              "<style>\n",
              "  .colab-df-quickchart {\n",
              "      --bg-color: #E8F0FE;\n",
              "      --fill-color: #1967D2;\n",
              "      --hover-bg-color: #E2EBFA;\n",
              "      --hover-fill-color: #174EA6;\n",
              "      --disabled-fill-color: #AAA;\n",
              "      --disabled-bg-color: #DDD;\n",
              "  }\n",
              "\n",
              "  [theme=dark] .colab-df-quickchart {\n",
              "      --bg-color: #3B4455;\n",
              "      --fill-color: #D2E3FC;\n",
              "      --hover-bg-color: #434B5C;\n",
              "      --hover-fill-color: #FFFFFF;\n",
              "      --disabled-bg-color: #3B4455;\n",
              "      --disabled-fill-color: #666;\n",
              "  }\n",
              "\n",
              "  .colab-df-quickchart {\n",
              "    background-color: var(--bg-color);\n",
              "    border: none;\n",
              "    border-radius: 50%;\n",
              "    cursor: pointer;\n",
              "    display: none;\n",
              "    fill: var(--fill-color);\n",
              "    height: 32px;\n",
              "    padding: 0;\n",
              "    width: 32px;\n",
              "  }\n",
              "\n",
              "  .colab-df-quickchart:hover {\n",
              "    background-color: var(--hover-bg-color);\n",
              "    box-shadow: 0 1px 2px rgba(60, 64, 67, 0.3), 0 1px 3px 1px rgba(60, 64, 67, 0.15);\n",
              "    fill: var(--button-hover-fill-color);\n",
              "  }\n",
              "\n",
              "  .colab-df-quickchart-complete:disabled,\n",
              "  .colab-df-quickchart-complete:disabled:hover {\n",
              "    background-color: var(--disabled-bg-color);\n",
              "    fill: var(--disabled-fill-color);\n",
              "    box-shadow: none;\n",
              "  }\n",
              "\n",
              "  .colab-df-spinner {\n",
              "    border: 2px solid var(--fill-color);\n",
              "    border-color: transparent;\n",
              "    border-bottom-color: var(--fill-color);\n",
              "    animation:\n",
              "      spin 1s steps(1) infinite;\n",
              "  }\n",
              "\n",
              "  @keyframes spin {\n",
              "    0% {\n",
              "      border-color: transparent;\n",
              "      border-bottom-color: var(--fill-color);\n",
              "      border-left-color: var(--fill-color);\n",
              "    }\n",
              "    20% {\n",
              "      border-color: transparent;\n",
              "      border-left-color: var(--fill-color);\n",
              "      border-top-color: var(--fill-color);\n",
              "    }\n",
              "    30% {\n",
              "      border-color: transparent;\n",
              "      border-left-color: var(--fill-color);\n",
              "      border-top-color: var(--fill-color);\n",
              "      border-right-color: var(--fill-color);\n",
              "    }\n",
              "    40% {\n",
              "      border-color: transparent;\n",
              "      border-right-color: var(--fill-color);\n",
              "      border-top-color: var(--fill-color);\n",
              "    }\n",
              "    60% {\n",
              "      border-color: transparent;\n",
              "      border-right-color: var(--fill-color);\n",
              "    }\n",
              "    80% {\n",
              "      border-color: transparent;\n",
              "      border-right-color: var(--fill-color);\n",
              "      border-bottom-color: var(--fill-color);\n",
              "    }\n",
              "    90% {\n",
              "      border-color: transparent;\n",
              "      border-bottom-color: var(--fill-color);\n",
              "    }\n",
              "  }\n",
              "</style>\n",
              "\n",
              "      <script>\n",
              "        async function quickchart(key) {\n",
              "          const quickchartButtonEl =\n",
              "            document.querySelector('#' + key + ' button');\n",
              "          quickchartButtonEl.disabled = true;  // To prevent multiple clicks.\n",
              "          quickchartButtonEl.classList.add('colab-df-spinner');\n",
              "          try {\n",
              "            const charts = await google.colab.kernel.invokeFunction(\n",
              "                'suggestCharts', [key], {});\n",
              "          } catch (error) {\n",
              "            console.error('Error during call to suggestCharts:', error);\n",
              "          }\n",
              "          quickchartButtonEl.classList.remove('colab-df-spinner');\n",
              "          quickchartButtonEl.classList.add('colab-df-quickchart-complete');\n",
              "        }\n",
              "        (() => {\n",
              "          let quickchartButtonEl =\n",
              "            document.querySelector('#df-fac4aa98-a0e4-4ba3-ad53-fdfc51292eb9 button');\n",
              "          quickchartButtonEl.style.display =\n",
              "            google.colab.kernel.accessAllowed ? 'block' : 'none';\n",
              "        })();\n",
              "      </script>\n",
              "    </div>\n",
              "\n",
              "    </div>\n",
              "  </div>\n"
            ],
            "application/vnd.google.colaboratory.intrinsic+json": {
              "type": "dataframe",
              "variable_name": "loja",
              "summary": "{\n  \"name\": \"loja\",\n  \"rows\": 2359,\n  \"fields\": [\n    {\n      \"column\": \"Produto\",\n      \"properties\": {\n        \"dtype\": \"category\",\n        \"num_unique_values\": 51,\n        \"samples\": [\n          \"Viol\\u00e3o\",\n          \"Bola de basquete\",\n          \"Smartwatch\"\n        ],\n        \"semantic_type\": \"\",\n        \"description\": \"\"\n      }\n    },\n    {\n      \"column\": \"Categoria do Produto\",\n      \"properties\": {\n        \"dtype\": \"category\",\n        \"num_unique_values\": 8,\n        \"samples\": [\n          \"moveis\",\n          \"esporte e lazer\",\n          \"eletronicos\"\n        ],\n        \"semantic_type\": \"\",\n        \"description\": \"\"\n      }\n    },\n    {\n      \"column\": \"Pre\\u00e7o\",\n      \"properties\": {\n        \"dtype\": \"number\",\n        \"std\": 819.5827782539145,\n        \"min\": 10.07,\n        \"max\": 3969.38,\n        \"num_unique_values\": 2315,\n        \"samples\": [\n          446.11,\n          107.31,\n          65.86\n        ],\n        \"semantic_type\": \"\",\n        \"description\": \"\"\n      }\n    },\n    {\n      \"column\": \"Frete\",\n      \"properties\": {\n        \"dtype\": \"number\",\n        \"std\": 43.814183327408166,\n        \"min\": 0.0,\n        \"max\": 214.3770604781,\n        \"num_unique_values\": 2149,\n        \"samples\": [\n          83.815279607,\n          16.069664669,\n          14.0344876928\n        ],\n        \"semantic_type\": \"\",\n        \"description\": \"\"\n      }\n    },\n    {\n      \"column\": \"Data da Compra\",\n      \"properties\": {\n        \"dtype\": \"object\",\n        \"num_unique_values\": 1018,\n        \"samples\": [\n          \"15/09/2022\",\n          \"03/06/2020\",\n          \"06/11/2021\"\n        ],\n        \"semantic_type\": \"\",\n        \"description\": \"\"\n      }\n    },\n    {\n      \"column\": \"Vendedor\",\n      \"properties\": {\n        \"dtype\": \"category\",\n        \"num_unique_values\": 14,\n        \"samples\": [\n          \"Juliana Costa\",\n          \"Mariana Ferreira\",\n          \"Pedro Gomes\"\n        ],\n        \"semantic_type\": \"\",\n        \"description\": \"\"\n      }\n    },\n    {\n      \"column\": \"Local da compra\",\n      \"properties\": {\n        \"dtype\": \"category\",\n        \"num_unique_values\": 26,\n        \"samples\": [\n          \"TO\",\n          \"RN\",\n          \"SP\"\n        ],\n        \"semantic_type\": \"\",\n        \"description\": \"\"\n      }\n    },\n    {\n      \"column\": \"Avalia\\u00e7\\u00e3o da compra\",\n      \"properties\": {\n        \"dtype\": \"number\",\n        \"std\": 1,\n        \"min\": 1,\n        \"max\": 5,\n        \"num_unique_values\": 5,\n        \"samples\": [\n          1,\n          2,\n          5\n        ],\n        \"semantic_type\": \"\",\n        \"description\": \"\"\n      }\n    },\n    {\n      \"column\": \"Tipo de pagamento\",\n      \"properties\": {\n        \"dtype\": \"category\",\n        \"num_unique_values\": 4,\n        \"samples\": [\n          \"boleto\",\n          \"cartao_debito\",\n          \"cartao_credito\"\n        ],\n        \"semantic_type\": \"\",\n        \"description\": \"\"\n      }\n    },\n    {\n      \"column\": \"Quantidade de parcelas\",\n      \"properties\": {\n        \"dtype\": \"number\",\n        \"std\": 2,\n        \"min\": 1,\n        \"max\": 24,\n        \"num_unique_values\": 15,\n        \"samples\": [\n          7,\n          14,\n          8\n        ],\n        \"semantic_type\": \"\",\n        \"description\": \"\"\n      }\n    },\n    {\n      \"column\": \"lat\",\n      \"properties\": {\n        \"dtype\": \"number\",\n        \"std\": 5.372399916530833,\n        \"min\": -30.17,\n        \"max\": 1.41,\n        \"num_unique_values\": 26,\n        \"samples\": [\n          -9.46,\n          -5.81,\n          -22.19\n        ],\n        \"semantic_type\": \"\",\n        \"description\": \"\"\n      }\n    },\n    {\n      \"column\": \"lon\",\n      \"properties\": {\n        \"dtype\": \"number\",\n        \"std\": 4.183180020544179,\n        \"min\": -70.55,\n        \"max\": -36.59,\n        \"num_unique_values\": 26,\n        \"samples\": [\n          -48.26,\n          -36.59,\n          -48.79\n        ],\n        \"semantic_type\": \"\",\n        \"description\": \"\"\n      }\n    }\n  ]\n}"
            }
          },
          "metadata": {},
          "execution_count": 3
        }
      ],
      "source": [
        "import pandas as pd\n",
        "\n",
        "url = \"https://raw.githubusercontent.com/alura-es-cursos/challenge1-data-science/refs/heads/main/base-de-dados-challenge-1/loja_1.csv\"\n",
        "url2 = \"https://raw.githubusercontent.com/alura-es-cursos/challenge1-data-science/refs/heads/main/base-de-dados-challenge-1/loja_2.csv\"\n",
        "url3 = \"https://raw.githubusercontent.com/alura-es-cursos/challenge1-data-science/refs/heads/main/base-de-dados-challenge-1/loja_3.csv\"\n",
        "url4 = \"https://raw.githubusercontent.com/alura-es-cursos/challenge1-data-science/refs/heads/main/base-de-dados-challenge-1/loja_4.csv\"\n",
        "\n",
        "loja = pd.read_csv(url)\n",
        "loja2 = pd.read_csv(url2)\n",
        "loja3 = pd.read_csv(url3)\n",
        "loja4 = pd.read_csv(url4)\n",
        "\n",
        "loja.head()"
      ]
    },
    {
      "cell_type": "markdown",
      "source": [
        "#1. Análise do faturamento\n"
      ],
      "metadata": {
        "id": "X62IW3KFUIYm"
      }
    },
    {
      "cell_type": "code",
      "source": [
        "lojas = [loja, loja2, loja3, loja4]\n",
        "resultados1 = []\n",
        "fgeral = 0\n",
        "\n",
        "for indx, i in enumerate(lojas):\n",
        "  nome = f\"Loja {indx + 1}\"\n",
        "  preco = i['Preço']\n",
        "  total = round(sum(preco),2)\n",
        "  fgeral += total\n",
        "  resultados1.append((nome, total))\n",
        "\n",
        "for nome, total in resultados1:\n",
        "  print(f\"{nome}: R${total}\")\n",
        "  print()\n",
        "\n",
        "print(f\"Faturamento Geral: R${round(fgeral,2)}\")\n"
      ],
      "metadata": {
        "colab": {
          "base_uri": "https://localhost:8080/"
        },
        "id": "29D8NmuA8TyY",
        "outputId": "4d152a5b-bf3b-444b-80f1-9deeba13df93"
      },
      "execution_count": 4,
      "outputs": [
        {
          "output_type": "stream",
          "name": "stdout",
          "text": [
            "Loja 1: R$1534509.12\n",
            "\n",
            "Loja 2: R$1488459.06\n",
            "\n",
            "Loja 3: R$1464025.03\n",
            "\n",
            "Loja 4: R$1384497.58\n",
            "\n",
            "Faturamento Geral: R$5871490.79\n"
          ]
        }
      ]
    },
    {
      "cell_type": "code",
      "metadata": {
        "colab": {
          "base_uri": "https://localhost:8080/",
          "height": 679
        },
        "id": "eec05a67",
        "outputId": "34a8c6e5-7fac-47ba-cb2f-b9347df1583d"
      },
      "source": [
        "import matplotlib.pyplot as plt\n",
        "\n",
        "names = [item[0] for item in resultados1]\n",
        "faturamento = [item[1] for item in resultados1]\n",
        "\n",
        "plt.figure(figsize=(8, 8))\n",
        "plt.pie(faturamento, labels=names, autopct='%1.1f%%', startangle=140)\n",
        "plt.title(\"Proporção do Faturamento por Loja\")\n",
        "plt.axis('equal')\n",
        "plt.show()"
      ],
      "execution_count": 5,
      "outputs": [
        {
          "output_type": "display_data",
          "data": {
            "text/plain": [
              "<Figure size 800x800 with 1 Axes>"
            ],
            "image/png": "[encoded data removed]"
          },
          "metadata": {}
        }
      ]
    },
    {
      "cell_type": "markdown",
      "source": [
        "\n",
        "# 2. Vendas por Categoria\n"
      ],
      "metadata": {
        "id": "jmudRUhvKOF9"
      }
    },
    {
      "cell_type": "code",
      "source": [
        "lojas = [loja, loja2, loja3, loja4]\n",
        "resultados = []\n",
        "\n",
        "for i, idx in enumerate(lojas):\n",
        "  nome = f\"Loja {i + 1}\"\n",
        "  resultados.append((nome, idx['Categoria do Produto'].value_counts()))\n",
        "\n",
        "for nome, categoria in resultados:\n",
        "  print(f\"{nome}:\")\n",
        "  print(categoria.to_string())\n",
        "  print()"
      ],
      "metadata": {
        "colab": {
          "base_uri": "https://localhost:8080/"
        },
        "id": "XfjvKpJmC5Nn",
        "outputId": "180d181c-a067-4bd3-db54-1c9dd270d1c5"
      },
      "execution_count": null,
      "outputs": [
        {
          "output_type": "stream",
          "name": "stdout",
          "text": [
            "Loja 1:\n",
            "Categoria do Produto\n",
            "moveis                   465\n",
            "eletronicos              448\n",
            "brinquedos               324\n",
            "eletrodomesticos         312\n",
            "esporte e lazer          284\n",
            "instrumentos musicais    182\n",
            "livros                   173\n",
            "utilidades domesticas    171\n",
            "\n",
            "Loja 2:\n",
            "Categoria do Produto\n",
            "moveis                   442\n",
            "eletronicos              422\n",
            "brinquedos               313\n",
            "eletrodomesticos         305\n",
            "esporte e lazer          275\n",
            "instrumentos musicais    224\n",
            "livros                   197\n",
            "utilidades domesticas    181\n",
            "\n",
            "Loja 3:\n",
            "Categoria do Produto\n",
            "moveis                   499\n",
            "eletronicos              451\n",
            "brinquedos               315\n",
            "eletrodomesticos         278\n",
            "esporte e lazer          277\n",
            "livros                   185\n",
            "instrumentos musicais    177\n",
            "utilidades domesticas    177\n",
            "\n",
            "Loja 4:\n",
            "Categoria do Produto\n",
            "moveis                   480\n",
            "eletronicos              451\n",
            "brinquedos               338\n",
            "esporte e lazer          277\n",
            "eletrodomesticos         254\n",
            "utilidades domesticas    201\n",
            "livros                   187\n",
            "instrumentos musicais    170\n",
            "\n"
          ]
        }
      ]
    },
    {
      "cell_type": "markdown",
      "source": [
        "\n",
        "\n",
        "```\n",
        "# Isto está formatado como código\n",
        "```\n",
        "\n",
        "# 3. Média de Avaliação das Lojas"
      ],
      "metadata": {
        "id": "Rq6tU_xSY3jk"
      }
    },
    {
      "cell_type": "code",
      "source": [
        "lojas = [loja, loja2, loja3, loja4]\n",
        "resultados2 = []\n",
        "\n",
        "for i, inx in enumerate(lojas):\n",
        "  nome = f\"Loja {i + 1}\"\n",
        "  avaliacao = inx['Avaliação da compra']\n",
        "  media= round((sum(avaliacao)/len(avaliacao)),2)\n",
        "  resultados2.append((nome, media))\n",
        "\n",
        "for nome, media in resultados2:\n",
        "  print(f\"Média das avaliações da {nome}: {media}\")\n",
        "  print()\n",
        "\n",
        "\n"
      ],
      "metadata": {
        "id": "qoyjqijQZHfF",
        "colab": {
          "base_uri": "https://localhost:8080/"
        },
        "outputId": "aa62bc23-caaa-4201-d7fe-5e6b6b538f81"
      },
      "execution_count": 7,
      "outputs": [
        {
          "output_type": "stream",
          "name": "stdout",
          "text": [
            "Média das avaliações da Loja 1: 3.98\n",
            "\n",
            "Média das avaliações da Loja 2: 4.04\n",
            "\n",
            "Média das avaliações da Loja 3: 4.05\n",
            "\n",
            "Média das avaliações da Loja 4: 4.0\n",
            "\n"
          ]
        }
      ]
    },
    {
      "cell_type": "code",
      "metadata": {
        "colab": {
          "base_uri": "https://localhost:8080/",
          "height": 564
        },
        "id": "461af88e",
        "outputId": "e5c55571-8f1c-45ce-defa-200c3775ac3b"
      },
      "source": [
        "import matplotlib.pyplot as plt\n",
        "\n",
        "store_names = [item[0] for item in resultados2]\n",
        "avaliacoes = [item[1] for item in resultados2]\n",
        "\n",
        "plt.figure(figsize=(10, 6))\n",
        "plt.bar(store_names, avaliacoes, color=['pink', 'brown', 'purple', 'blue'])\n",
        "plt.xlabel(\"Loja\")\n",
        "plt.ylabel(\"\")\n",
        "plt.title(\" Avalição por Loja\")\n",
        "plt.show()"
      ],
      "execution_count": 9,
      "outputs": [
        {
          "output_type": "display_data",
          "data": {
            "text/plain": [
              "<Figure size 1000x600 with 1 Axes>"
            ],
            "image/png": "[encoded data removed]"
          },
          "metadata": {}
        }
      ]
    },
    {
      "cell_type": "markdown",
      "source": [
        "# 4. Produtos Mais e Menos Vendidos"
      ],
      "metadata": {
        "id": "DmNp1KPBZCm-"
      }
    },
    {
      "cell_type": "code",
      "source": [
        "lojas = [loja, loja2, loja3, loja4]\n",
        "resultados = []\n",
        "\n",
        "for i, inx in enumerate(lojas):\n",
        "  nome = f\"Loja {i + 1}\"\n",
        "  vendas = inx['Produto'].value_counts()\n",
        "  nomemax = vendas.idxmax()\n",
        "  max = vendas.max()\n",
        "  nomemin= vendas.idxmin()\n",
        "  min = vendas.min()\n",
        "  resultados.append((nome, nomemax, max, nomemin, min))\n",
        "\n",
        "for nome, nomemax, max, nomemin, min in resultados:\n",
        "  print(f\"{nome}:\")\n",
        "  print(f\"Produto mais vendido: {nomemax} - {max} unidades\")\n",
        "  print(f\"Produto menos vendido: {nomemin} - {min} unidades\")\n",
        "  print()\n",
        "\n"
      ],
      "metadata": {
        "colab": {
          "base_uri": "https://localhost:8080/"
        },
        "id": "SqB68OC9EQIA",
        "outputId": "93100189-527b-4809-8ace-41c13670f1e1"
      },
      "execution_count": null,
      "outputs": [
        {
          "output_type": "stream",
          "name": "stdout",
          "text": [
            "Loja 1:\n",
            "Produto mais vendido: Micro-ondas - 60 unidades\n",
            "Produto menos vendido: Headset - 33 unidades\n",
            "\n",
            "Loja 2:\n",
            "Produto mais vendido: Iniciando em programação - 65 unidades\n",
            "Produto menos vendido: Jogo de tabuleiro - 32 unidades\n",
            "\n",
            "Loja 3:\n",
            "Produto mais vendido: Kit banquetas - 57 unidades\n",
            "Produto menos vendido: Blocos de montar - 35 unidades\n",
            "\n",
            "Loja 4:\n",
            "Produto mais vendido: Cama box - 62 unidades\n",
            "Produto menos vendido: Guitarra - 33 unidades\n",
            "\n"
          ]
        }
      ]
    },
    {
      "cell_type": "markdown",
      "source": [
        "# 5. Frete Médio por Loja\n"
      ],
      "metadata": {
        "id": "Fl0cGi3bZKqU"
      }
    },
    {
      "cell_type": "code",
      "source": [
        "lojas = [loja, loja2, loja3, loja4]\n",
        "resultados3 = []\n",
        "\n",
        "for i, inx in enumerate(lojas):\n",
        "  nome = f\"Loja {i + 1}\"\n",
        "  frete = inx['Frete']\n",
        "  mediafrete= round((sum(frete)/len(frete)),2)\n",
        "  resultados3.append((nome, mediafrete))\n",
        "\n",
        "for nome, mediafrete in resultados3:\n",
        "  print(f\"Média do frete da {nome}: {mediafrete}\")\n",
        "  print()\n",
        "\n"
      ],
      "metadata": {
        "id": "S2JeaCykZNy9",
        "colab": {
          "base_uri": "https://localhost:8080/"
        },
        "outputId": "2a56e1fb-2821-4596-8cae-e5d0e6908b54"
      },
      "execution_count": 11,
      "outputs": [
        {
          "output_type": "stream",
          "name": "stdout",
          "text": [
            "Média do frete da Loja 1: 34.69\n",
            "\n",
            "Média do frete da Loja 2: 33.62\n",
            "\n",
            "Média do frete da Loja 3: 33.07\n",
            "\n",
            "Média do frete da Loja 4: 31.28\n",
            "\n"
          ]
        }
      ]
    },
    {
      "cell_type": "code",
      "source": [
        "import matplotlib.pyplot as plt\n",
        "\n",
        "store_names = [item[0] for item in resultados3]\n",
        "fretes = [item[1] for item in resultados3]\n",
        "\n",
        "plt.figure(figsize=(10, 6))\n",
        "plt.bar(store_names, fretes, color=['pink', 'brown', 'purple', 'blue'])\n",
        "plt.xlabel(\"Loja\")\n",
        "plt.ylabel(\"\")\n",
        "plt.title(\" Média dos Fretes por Loja\")\n",
        "plt.show()"
      ],
      "metadata": {
        "id": "WKWfrFIeMHTw",
        "colab": {
          "base_uri": "https://localhost:8080/",
          "height": 565
        },
        "outputId": "165f710c-e689-4f5f-c12d-61db33103693"
      },
      "execution_count": 12,
      "outputs": [
        {
          "output_type": "display_data",
          "data": {
            "text/plain": [
              "<Figure size 1000x600 with 1 Axes>"
            ],
            "image/png": "[encoded data removed]"
          },
          "metadata": {}
        }
      ]
    },
    {
      "cell_type": "markdown",
      "metadata": {
        "id": "5c2f8f90"
      },
      "source": [
        "## Relatório Completo\n",
        "\n",
        "Com o objetivo de auxiliar o \"Seu João\" na decisão de qual loja deve ser vendida para gerar capital para novos investimentos, foi realizada uma análise comparativa das quatro lojas, considerando os seguintes fatores:\n",
        "\n",
        "1. **Faturamento Total:** Análise do faturamento individual de cada loja e do faturamento geral.\n",
        "2. **Vendas por Categoria:** Identificação das categorias de produtos mais e menos vendidas em cada loja.\n",
        "3. **Média de Avaliação dos Clientes:** Comparativo da satisfação dos clientes em cada loja com base nas avaliações.\n",
        "4. **Produtos Mais e Menos Vendidos:** Destaque para os produtos com maior e menor volume de vendas em cada loja.\n",
        "5. **Frete Médio por Loja:** Comparativo dos custos médios de frete para cada loja.\n",
        "\n",
        "---\n",
        "\n",
        "### 1. Faturamento Total\n",
        "\n",
        "Com base nos dados analisados, o faturamento total de cada loja é o seguinte:\n",
        "\n",
        "* **Loja 1:** R$1534509.12\n",
        "\n",
        "* **Loja 2:** R$1488459.06\n",
        "\n",
        "* **Loja 3:** R$1464025.03\n",
        "\n",
        "* **Loja 4:** R$1384497.58\n",
        "\n",
        "O faturamento geral das quatro lojas é de R$5871490.79.\n",
        "\n",
        "É possível observar que a Loja 1 apresenta o maior faturamento, seguida pela Loja 2, Loja 3 e Loja 4. No entanto, a proporção do faturamento de cada loja no faturamento geral é bastante similar, como mostrado no gráfico de pizza gerado anteriormente.\n",
        "\n",
        "---\n",
        "\n",
        "### 2. Vendas por Categoria\n",
        "\n",
        "A análise das categorias de produtos mais e menos vendidos em cada loja revelou os seguintes padrões:\n",
        "\n",
        "* **Loja 1:** Mais vendidos: moveis e eletronicos. Menos vendidos: livros e utilidades domesticas.\n",
        "* **Loja 2:** Mais vendidos: moveis e eletronicos. Menos vendidos: livros e utilidades domesticas.\n",
        "* **Loja 3:** Mais vendidos: moveis e eletronicos. Menos vendidos: instrumentos musicais e utilidades domesticas.\n",
        "* **Loja 4:** Mais vendidos: moveis e eletronicos. Menos vendidos: instrumentos musicais e utilidades domesticas.\n",
        "\n",
        "As categorias de \"moveis\" e \"eletronicos\" são consistentemente as mais vendidas em todas as lojas. As categorias de \"livros\", \"utilidades domesticas\" e \"instrumentos musicais\" aparecem como as menos vendidas, variando um pouco entre as lojas.\n",
        "\n",
        "---\n",
        "\n",
        "### 3. Média de Avaliação dos Clientes\n",
        "\n",
        "As médias de avaliação dos clientes por loja são as seguintes:\n",
        "\n",
        "* **Média das avaliações da Loja 1:** 3.98\n",
        "* **Média das avaliações da Loja 2:** 4.04\n",
        "* **Média das avaliações da Loja 3:** 4.05\n",
        "* **Média das avaliações da Loja 4:** 4.0\n",
        "\n",
        "Todas as lojas apresentam uma média de avaliação próxima a 4, indicando um bom nível de satisfação geral dos clientes. A Loja 3 tem a média mais alta, seguida pela Loja 2, Loja 4 e Loja 1.\n",
        "\n",
        "---\n",
        "\n",
        "### 4. Produtos Mais e Menos Vendidos\n",
        "\n",
        "Os produtos mais e menos vendidos em cada loja são:\n",
        "\n",
        "* **Loja 1:** Produto mais vendido: Micro-ondas - 60 unidades. Produto menos vendido: Headset - 33 unidades.\n",
        "* **Loja 2:** Produto mais vendido: Iniciando em programação - 65 unidades. Produto menos vendido: Jogo de tabuleiro - 32 unidades.\n",
        "* **Loja 3:** Produto mais vendido: Kit banquetas - 57 unidades. Produto menos vendido: Blocos de montar - 35 unidades.\n",
        "* **Loja 4:** Produto mais vendido: Cama box - 62 unidades. Produto menos vendido: Guitarra - 33 unidades.\n",
        "\n",
        "Os produtos mais vendidos variam entre as lojas, assim como os menos vendidos. Esta informação pode ser útil para entender as preferências específicas dos clientes de cada loja e otimizar o estoque.\n",
        "\n",
        "---\n",
        "\n",
        "### 5. Frete Médio por Loja\n",
        "\n",
        "As médias de frete por loja são as seguintes:\n",
        "\n",
        "* **Média do frete da Loja 1:** 34.69\n",
        "* **Média do frete da Loja 2:** 33.62\n",
        "* **Média do frete da Loja 3:** 33.07\n",
        "* **Média do frete da Loja 4:** 31.28\n",
        "\n",
        "A Loja 4 apresenta o menor frete médio, enquanto a Loja 1 tem o maior. A diferença entre os fretes médios das lojas não é muito significativa, mas pode ter alguma influência na decisão de compra dos clientes.\n",
        "\n",
        "---\n",
        "\n",
        "### Conclusão\n",
        "\n",
        "Para auxiliar o \"Seu João\" na decisão de qual loja vender, é importante considerar todos os fatores analisados. A Loja 1 tem o maior faturamento, mas também o maior frete médio e a menor média de avaliação (embora ainda boa). A Loja 3 tem a maior média de avaliação e um frete médio baixo. A Loja 4 tem o menor faturamento e o menor frete médio. A Loja 2 apresenta um desempenho intermediário em todos os aspectos.\n",
        "\n",
        "A decisão final dependerá dos objetivos de \"Seu João\". Se o objetivo principal é maximizar o capital imediato, a Loja 1 pode ser a mais atrativa em termos de faturamento. No entanto, se a satisfação do cliente e custos de frete forem fatores mais importantes, a Loja 3 ou Loja 4 podem ser consideradas.\n",
        "\n",
        "É recomendável que \"Seu João\" pondere a importância de cada um desses fatores para tomar a decisão mais estratégica para seus futuros investimentos."
      ]
    }
  ]
}